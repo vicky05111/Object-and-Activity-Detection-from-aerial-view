{
 "cells": [
  {
   "cell_type": "code",
   "execution_count": 1,
   "metadata": {
    "colab": {},
    "colab_type": "code",
    "id": "v6O64CQN8MsK"
   },
   "outputs": [],
   "source": [
    "import os\n",
    "count=0;\n",
    "import cv2"
   ]
  },
  {
   "cell_type": "code",
   "execution_count": 2,
   "metadata": {
    "colab": {},
    "colab_type": "code",
    "id": "v7izN6Um5Dwg"
   },
   "outputs": [],
   "source": [
    "for filename in os.listdir('C:/Users/Vicky singh/Desktop/fight-detection-surv-dataset/fight'):\n",
    "    vidObj = cv2.VideoCapture('C:/Users/Vicky singh/Desktop/fight-detection-surv-dataset/fight/'+filename) \n",
    "   \n",
    "    while True:\n",
    "        success,image = vidObj.read() \n",
    "        if success:\n",
    "            image=cv2.resize(image,(240,240))\n",
    "            cv2.imwrite(\"C:/Users/Vicky singh/Desktop/fight-detection-surv-dataset/fight1/frame%d.jpg\" % count, image)\n",
    "            cv2.imshow(\"image\", image)\n",
    "            count += 1\n",
    "        else:\n",
    "            break\n",
    "        vidObj.release() \n",
    "        cv2.destroyAllWindows() "
   ]
  },
  {
   "cell_type": "code",
   "execution_count": 3,
   "metadata": {
    "colab": {},
    "colab_type": "code",
    "id": "IiElyjBTZqal"
   },
   "outputs": [],
   "source": [
    "count=0"
   ]
  },
  {
   "cell_type": "code",
   "execution_count": 4,
   "metadata": {
    "colab": {},
    "colab_type": "code",
    "id": "P8T3yQ-b8JZZ"
   },
   "outputs": [],
   "source": [
    "for filename in os.listdir('C:/Users/Vicky singh/Desktop/fight-detection-surv-dataset/noFight'):\n",
    "    vidObj = cv2.VideoCapture('C:/Users/Vicky singh/Desktop/fight-detection-surv-dataset/noFight/'+filename) \n",
    "   \n",
    "    while True:\n",
    "        success,image = vidObj.read() \n",
    "        if success:\n",
    "            image=cv2.resize(image,(240,240))\n",
    "            cv2.imwrite(\"C:/Users/Vicky singh/Desktop/fight-detection-surv-dataset/nofight1/frame%d.jpg\" % count, image)\n",
    "            cv2.imshow(\"image\", image)\n",
    "            count += 1\n",
    "        else:\n",
    "            break\n",
    "        vidObj.release() \n",
    "        cv2.destroyAllWindows() "
   ]
  },
  {
   "cell_type": "code",
   "execution_count": 5,
   "metadata": {
    "colab": {
     "base_uri": "https://localhost:8080/",
     "height": 34
    },
    "colab_type": "code",
    "id": "HSyi1SZvFRww",
    "outputId": "5372bfec-c632-4b54-fe22-e442aa5d898f"
   },
   "outputs": [],
   "source": [
    "from keras.applications.inception_v3 import InceptionV3\n",
    "from keras.optimizers import SGD\n",
    "from keras.preprocessing.image import ImageDataGenerator\n",
    "from keras.models import Model\n",
    "from keras.layers import Dense, GlobalAveragePooling2D\n",
    "from keras.callbacks import ModelCheckpoint, TensorBoard, EarlyStopping\n",
    "#from data import DataSet\n",
    "import os.path"
   ]
  },
  {
   "cell_type": "code",
   "execution_count": 6,
   "metadata": {
    "colab": {},
    "colab_type": "code",
    "id": "C0p63fXvXHHq"
   },
   "outputs": [],
   "source": [
    "def get_model(weights='imagenet'):\n",
    "    # create the base pre-trained model\n",
    "    base_model = InceptionV3(weights=weights, include_top=False)\n",
    "\n",
    "    # add a global spatial average pooling layer\n",
    "    x = base_model.output\n",
    "    x = GlobalAveragePooling2D()(x)\n",
    "    # let's add a fully-connected layer\n",
    "    x = Dense(1024, activation='relu')(x)\n",
    "    # and a logistic layer\n",
    "    predictions = Dense(2, activation='softmax')(x)\n",
    "\n",
    "    # this is the model we will train\n",
    "    model = Model(inputs=base_model.input, outputs=predictions)\n",
    "    return model"
   ]
  },
  {
   "cell_type": "code",
   "execution_count": 7,
   "metadata": {
    "colab": {},
    "colab_type": "code",
    "id": "-vhPShG2XVDA"
   },
   "outputs": [],
   "source": [
    "def get_generators():\n",
    "    train_datagen = ImageDataGenerator(\n",
    "        rescale=1./255,\n",
    "        shear_range=0.2,\n",
    "        horizontal_flip=True,\n",
    "        rotation_range=10.,\n",
    "        width_shift_range=0.2,\n",
    "        height_shift_range=0.2)\n",
    "\n",
    "    test_datagen = ImageDataGenerator(rescale=1./255)\n",
    "\n",
    "    train_generator = train_datagen.flow_from_directory(\n",
    "        'C:/Users/Vicky singh/Desktop/fight-detection-surv-dataset/Dataset',\n",
    "        target_size=(299, 299),\n",
    "        batch_size=32,\n",
    "        class_mode='categorical')\n",
    "\n",
    "    return train_generator"
   ]
  },
  {
   "cell_type": "code",
   "execution_count": 8,
   "metadata": {
    "colab": {},
    "colab_type": "code",
    "id": "7QP9emMuX2WK"
   },
   "outputs": [
    {
     "name": "stdout",
     "output_type": "stream",
     "text": [
      "Found 8177 images belonging to 2 classes.\n"
     ]
    }
   ],
   "source": [
    "model = get_model()\n",
    "generators = get_generators()"
   ]
  },
  {
   "cell_type": "code",
   "execution_count": 9,
   "metadata": {
    "colab": {},
    "colab_type": "code",
    "id": "zcQCLfJPJtc2"
   },
   "outputs": [],
   "source": [
    "checkpointer = ModelCheckpoint(\n",
    "    filepath=os.path.join('data', 'checkpoints', 'inception.{epoch:03d}.hdf5'),\n",
    "    verbose=1,\n",
    "    save_best_only=True)\n",
    "\n",
    "# Helper: Stop when we stop learning.\n",
    "early_stopper = EarlyStopping(patience=10)\n",
    "\n",
    "# Helper: TensorBoard\n",
    "tensorboard = TensorBoard(log_dir=os.path.join('data', 'logs'))"
   ]
  },
  {
   "cell_type": "code",
   "execution_count": 10,
   "metadata": {
    "colab": {},
    "colab_type": "code",
    "id": "rQ2CkkyGYBFT"
   },
   "outputs": [],
   "source": [
    "def train_model(model, nb_epoch, generators, callbacks=[]):\n",
    "    train_generator =generators\n",
    "    model.fit_generator(\n",
    "        train_generator,\n",
    "        steps_per_epoch=100,\n",
    "        epochs=nb_epoch,\n",
    "        callbacks=callbacks)\n",
    "    return model"
   ]
  },
  {
   "cell_type": "code",
   "execution_count": 11,
   "metadata": {
    "colab": {},
    "colab_type": "code",
    "id": "InntPv3TbMRt"
   },
   "outputs": [],
   "source": [
    "def freeze_all_but_top(model):\n",
    "    \"\"\"Used to train just the top layers of the model.\"\"\"\n",
    "    # first: train only the top layers (which were randomly initialized)\n",
    "    # i.e. freeze all convolutional InceptionV3 layers\n",
    "    for layer in model.layers[:-2]:\n",
    "        layer.trainable = False\n",
    "\n",
    "    # compile the model (should be done *after* setting layers to non-trainable)\n",
    "    model.compile(optimizer='rmsprop', loss='categorical_crossentropy', metrics=['accuracy'])\n",
    "\n",
    "    return model\n",
    "\n",
    "def freeze_all_but_mid_and_top(model):\n",
    "    \"\"\"After we fine-tune the dense layers, train deeper.\"\"\"\n",
    "    # we chose to train the top 2 inception blocks, i.e. we will freeze\n",
    "    # the first 172 layers and unfreeze the rest:\n",
    "    for layer in model.layers[:172]:\n",
    "        layer.trainable = False\n",
    "    for layer in model.layers[172:]:\n",
    "        layer.trainable = True\n",
    "\n",
    "    # we need to recompile the model for these modifications to take effect\n",
    "    # we use SGD with a low learning rate\n",
    "    model.compile(\n",
    "        optimizer=SGD(lr=0.0001, momentum=0.9),\n",
    "        loss='categorical_crossentropy',\n",
    "        metrics=['accuracy', 'top_k_categorical_accuracy'])\n",
    "\n",
    "    return model"
   ]
  },
  {
   "cell_type": "code",
   "execution_count": null,
   "metadata": {
    "colab": {
     "base_uri": "https://localhost:8080/",
     "height": 353
    },
    "colab_type": "code",
    "id": "uKGzI1iEbUH5",
    "outputId": "2793b919-09ea-4e15-ace6-d7b545baf8c4"
   },
   "outputs": [
    {
     "name": "stderr",
     "output_type": "stream",
     "text": [
      "C:\\Users\\Vicky singh\\AppData\\Roaming\\Python\\Python38\\site-packages\\tensorflow\\python\\keras\\engine\\training.py:1844: UserWarning: `Model.fit_generator` is deprecated and will be removed in a future version. Please use `Model.fit`, which supports generators.\n",
      "  warnings.warn('`Model.fit_generator` is deprecated and '\n"
     ]
    },
    {
     "name": "stdout",
     "output_type": "stream",
     "text": [
      "Epoch 1/10\n",
      "100/100 [==============================] - 562s 6s/step - loss: 0.0179 - accuracy: 1.0000\n",
      "Epoch 2/10\n",
      " 68/100 [===================>..........] - ETA: 2:44 - loss: 0.0000e+00 - accuracy: 1.0000"
     ]
    }
   ],
   "source": [
    "model = freeze_all_but_top(model)\n",
    "model = train_model(model, 10, generators)"
   ]
  },
  {
   "cell_type": "code",
   "execution_count": null,
   "metadata": {
    "colab": {
     "base_uri": "https://localhost:8080/",
     "height": 67
    },
    "colab_type": "code",
    "id": "DhBWjvigbbNt",
    "outputId": "b65d69f1-6fe9-4efc-a9f1-bac220aee87d"
   },
   "outputs": [],
   "source": [
    "  for file in os.listdir('C:/Users/Vicky singh/Desktop/fight-detection-surv-dataset/Dataset'):\n",
    "        print('C:/Users/Vicky singh/Desktop/fight-detection-surv-dataset/Dataset/'+file)"
   ]
  },
  {
   "cell_type": "code",
   "execution_count": null,
   "metadata": {
    "colab": {
     "base_uri": "https://localhost:8080/",
     "height": 34
    },
    "colab_type": "code",
    "id": "Mk6WFoqrb0Px",
    "outputId": "8249691d-e9e0-46c6-c204-61f7e4e122aa"
   },
   "outputs": [],
   "source": [
    "import shutil \n",
    "\n",
    "location=\"C:/Users/Vicky singh/Desktop/fight-detection-surv-dataset\"\n",
    "path = os.path.join(location, '.ipynb_checkpoints') \n",
    "print(path)\n",
    "# removing directory \n",
    "shutil.rmtree(path) "
   ]
  },
  {
   "cell_type": "code",
   "execution_count": null,
   "metadata": {
    "colab": {
     "base_uri": "https://localhost:8080/",
     "height": 50
    },
    "colab_type": "code",
    "id": "cvqo17FhcRJD",
    "outputId": "c7db1c04-fa61-4308-86f0-45f7a6c94556"
   },
   "outputs": [],
   "source": [
    "for file in os.listdir('C:/Users/Vicky singh/Desktop/fight-detection-surv-dataset/Dataset'):\n",
    "    print('C:/Users/Vicky singh/Desktop/fight-detection-surv-dataset/Dataset/'+file)"
   ]
  },
  {
   "cell_type": "code",
   "execution_count": null,
   "metadata": {
    "colab": {
     "base_uri": "https://localhost:8080/",
     "height": 440
    },
    "colab_type": "code",
    "id": "2_GBvp-9dUzj",
    "outputId": "debf31bd-7e54-483d-dc49-62e193a84e7a"
   },
   "outputs": [],
   "source": [
    "model = freeze_all_but_mid_and_top(model)\n",
    "model = train_model(model, 10, generators,\n",
    "                        [checkpointer, early_stopper, tensorboard])"
   ]
  },
  {
   "cell_type": "code",
   "execution_count": null,
   "metadata": {
    "colab": {
     "base_uri": "https://localhost:8080/",
     "height": 282
    },
    "colab_type": "code",
    "id": "CQaKy8TOzZRR",
    "outputId": "37844307-09de-4513-e2cc-021406916cf3"
   },
   "outputs": [],
   "source": [
    "import matplotlib.pyplot as plt\n",
    "plt.plot(model.history.history['loss'])"
   ]
  },
  {
   "cell_type": "code",
   "execution_count": null,
   "metadata": {
    "colab": {
     "base_uri": "https://localhost:8080/",
     "height": 282
    },
    "colab_type": "code",
    "id": "I-ZfESvs-4SQ",
    "outputId": "d9c60825-7c64-46f9-9f2a-a30dc365384f"
   },
   "outputs": [],
   "source": [
    "  plt.plot(model.history.history['accuracy'])"
   ]
  },
  {
   "cell_type": "code",
   "execution_count": null,
   "metadata": {
    "colab": {},
    "colab_type": "code",
    "id": "KGGLs4UvwP5h"
   },
   "outputs": [],
   "source": [
    "\n",
    "#for filename in os.listdir('/content/fight-detection-surv-dataset/noFight'):\n",
    "  #print(filename)\n",
    "vidObj = cv2.VideoCapture('C:/Users/Vicky singh/Desktop/fight-detection-surv-dataset/test/fi008.mp4') \n",
    "while True: \n",
    "        success, image = vidObj.read() \n",
    "        #print(success)\n",
    "        # Saves the frames with frame-count \n",
    "        if success:\n",
    "            image=cv2.resize(image,(299,299))\n",
    "            cv2.imwrite(\"C:/Users/Vicky singh/Desktop/fight-detection-surv-dataset/frame%d.jpg\" % count, image) \n",
    "            count += 1\n",
    "        else:\n",
    "            break\n",
    "        vidObj.release() \n",
    "        cv2.destroyAllWindows() "
   ]
  },
  {
   "cell_type": "code",
   "execution_count": null,
   "metadata": {
    "colab": {},
    "colab_type": "code",
    "id": "8U7mfriryXZw"
   },
   "outputs": [],
   "source": [
    "import numpy as np"
   ]
  },
  {
   "cell_type": "code",
   "execution_count": null,
   "metadata": {
    "colab": {
     "base_uri": "https://localhost:8080/",
     "height": 1000
    },
    "colab_type": "code",
    "id": "Z6NYVFg5weSa",
    "outputId": "029872d7-27dd-4c65-ae4f-cb3e1942c961"
   },
   "outputs": [],
   "source": [
    "for image1 in os.listdir('C:/Users/Vicky singh/Desktop/fight-detection-surv-dataset/test/test_frame'):\n",
    "    image = cv2.imread(os.path.join('C:/Users/Vicky singh/Desktop/fight-detection-surv-dataset/test/test_frame',image1))\n",
    "    if image is not None:\n",
    "        x = np.expand_dims(image, axis=0)\n",
    "        images = np.vstack([x])\n",
    "        classes = model.predict(images, batch_size=10)\n",
    "        print(classes[0])\n",
    "        if classes[0][0]>0.5:\n",
    "            print(\"Fighting recorded\")\n",
    "        else:\n",
    "            print(\"No fight\")\n",
    "            \n",
    "  "
   ]
  },
  {
   "cell_type": "code",
   "execution_count": null,
   "metadata": {
    "colab": {},
    "colab_type": "code",
    "id": "emupGgLRxjf_"
   },
   "outputs": [],
   "source": [
    "validation_generator"
   ]
  }
 ],
 "metadata": {
  "colab": {
   "collapsed_sections": [],
   "name": "MP.ipynb",
   "provenance": []
  },
  "kernelspec": {
   "display_name": "Python 3",
   "language": "python",
   "name": "python3"
  },
  "language_info": {
   "codemirror_mode": {
    "name": "ipython",
    "version": 3
   },
   "file_extension": ".py",
   "mimetype": "text/x-python",
   "name": "python",
   "nbconvert_exporter": "python",
   "pygments_lexer": "ipython3",
   "version": "3.8.8"
  }
 },
 "nbformat": 4,
 "nbformat_minor": 1
}
